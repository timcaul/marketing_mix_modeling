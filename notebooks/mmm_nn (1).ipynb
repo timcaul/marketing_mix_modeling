{
  "nbformat": 4,
  "nbformat_minor": 0,
  "metadata": {
    "colab": {
      "provenance": []
    },
    "kernelspec": {
      "name": "python3",
      "display_name": "Python 3"
    },
    "language_info": {
      "name": "python"
    }
  },
  "cells": [
    {
      "cell_type": "markdown",
      "source": [
        "# Installing and Importing Packages"
      ],
      "metadata": {
        "id": "XEQvsB5Sqzi5"
      }
    },
    {
      "cell_type": "code",
      "source": [
        "!pip install shap"
      ],
      "metadata": {
        "colab": {
          "base_uri": "https://localhost:8080/"
        },
        "id": "4XiICDWNqorl",
        "outputId": "446de8d7-fbe2-4f35-ed1a-f10d64f3daae"
      },
      "execution_count": null,
      "outputs": [
        {
          "output_type": "stream",
          "name": "stdout",
          "text": [
            "Collecting shap\n",
            "  Downloading shap-0.42.1-cp310-cp310-manylinux_2_12_x86_64.manylinux2010_x86_64.manylinux_2_17_x86_64.manylinux2014_x86_64.whl (547 kB)\n",
            "\u001b[2K     \u001b[90m━━━━━━━━━━━━━━━━━━━━━━━━━━━━━━━━━━━━━━━\u001b[0m \u001b[32m547.9/547.9 kB\u001b[0m \u001b[31m4.6 MB/s\u001b[0m eta \u001b[36m0:00:00\u001b[0m\n",
            "\u001b[?25hRequirement already satisfied: numpy in /usr/local/lib/python3.10/dist-packages (from shap) (1.22.4)\n",
            "Requirement already satisfied: scipy in /usr/local/lib/python3.10/dist-packages (from shap) (1.10.1)\n",
            "Requirement already satisfied: scikit-learn in /usr/local/lib/python3.10/dist-packages (from shap) (1.2.2)\n",
            "Requirement already satisfied: pandas in /usr/local/lib/python3.10/dist-packages (from shap) (1.5.3)\n",
            "Requirement already satisfied: tqdm>=4.27.0 in /usr/local/lib/python3.10/dist-packages (from shap) (4.65.0)\n",
            "Requirement already satisfied: packaging>20.9 in /usr/local/lib/python3.10/dist-packages (from shap) (23.1)\n",
            "Collecting slicer==0.0.7 (from shap)\n",
            "  Downloading slicer-0.0.7-py3-none-any.whl (14 kB)\n",
            "Requirement already satisfied: numba in /usr/local/lib/python3.10/dist-packages (from shap) (0.56.4)\n",
            "Requirement already satisfied: cloudpickle in /usr/local/lib/python3.10/dist-packages (from shap) (2.2.1)\n",
            "Requirement already satisfied: llvmlite<0.40,>=0.39.0dev0 in /usr/local/lib/python3.10/dist-packages (from numba->shap) (0.39.1)\n",
            "Requirement already satisfied: setuptools in /usr/local/lib/python3.10/dist-packages (from numba->shap) (67.7.2)\n",
            "Requirement already satisfied: python-dateutil>=2.8.1 in /usr/local/lib/python3.10/dist-packages (from pandas->shap) (2.8.2)\n",
            "Requirement already satisfied: pytz>=2020.1 in /usr/local/lib/python3.10/dist-packages (from pandas->shap) (2022.7.1)\n",
            "Requirement already satisfied: joblib>=1.1.1 in /usr/local/lib/python3.10/dist-packages (from scikit-learn->shap) (1.3.1)\n",
            "Requirement already satisfied: threadpoolctl>=2.0.0 in /usr/local/lib/python3.10/dist-packages (from scikit-learn->shap) (3.1.0)\n",
            "Requirement already satisfied: six>=1.5 in /usr/local/lib/python3.10/dist-packages (from python-dateutil>=2.8.1->pandas->shap) (1.16.0)\n",
            "Installing collected packages: slicer, shap\n",
            "Successfully installed shap-0.42.1 slicer-0.0.7\n"
          ]
        }
      ]
    },
    {
      "cell_type": "code",
      "execution_count": null,
      "metadata": {
        "id": "lUe30lbNqFts"
      },
      "outputs": [],
      "source": [
        "import tensorflow as tf\n",
        "from tensorflow import keras\n",
        "\n",
        "from keras.models import Sequential\n",
        "from keras.layers import Dense, SimpleRNN\n",
        "from keras import regularizers\n",
        "from sklearn.model_selection import train_test_split\n",
        "from sklearn.metrics import mean_squared_error, r2_score\n",
        "\n",
        "import pandas as pd\n",
        "import numpy as np\n",
        "from scipy.signal import lfilter\n",
        "import copy\n",
        "from matplotlib import pyplot as plt\n",
        "\n",
        "import shap"
      ]
    },
    {
      "cell_type": "code",
      "source": [],
      "metadata": {
        "id": "traorH_ZqwKe"
      },
      "execution_count": null,
      "outputs": []
    },
    {
      "cell_type": "markdown",
      "source": [
        "# Importing Data and creating Adstock Dataset"
      ],
      "metadata": {
        "id": "6ovTMBinq5_I"
      }
    },
    {
      "cell_type": "code",
      "source": [
        "from google.colab import files\n",
        "uploaded = files.upload()"
      ],
      "metadata": {
        "colab": {
          "base_uri": "https://localhost:8080/",
          "height": 74
        },
        "id": "N9kMB3DsqwQP",
        "outputId": "1939d290-2f98-4655-c951-19b8e98bff4c"
      },
      "execution_count": null,
      "outputs": [
        {
          "output_type": "display_data",
          "data": {
            "text/plain": [
              "<IPython.core.display.HTML object>"
            ],
            "text/html": [
              "\n",
              "     <input type=\"file\" id=\"files-c12f99d6-5284-4676-8503-3503db36293c\" name=\"files[]\" multiple disabled\n",
              "        style=\"border:none\" />\n",
              "     <output id=\"result-c12f99d6-5284-4676-8503-3503db36293c\">\n",
              "      Upload widget is only available when the cell has been executed in the\n",
              "      current browser session. Please rerun this cell to enable.\n",
              "      </output>\n",
              "      <script>// Copyright 2017 Google LLC\n",
              "//\n",
              "// Licensed under the Apache License, Version 2.0 (the \"License\");\n",
              "// you may not use this file except in compliance with the License.\n",
              "// You may obtain a copy of the License at\n",
              "//\n",
              "//      http://www.apache.org/licenses/LICENSE-2.0\n",
              "//\n",
              "// Unless required by applicable law or agreed to in writing, software\n",
              "// distributed under the License is distributed on an \"AS IS\" BASIS,\n",
              "// WITHOUT WARRANTIES OR CONDITIONS OF ANY KIND, either express or implied.\n",
              "// See the License for the specific language governing permissions and\n",
              "// limitations under the License.\n",
              "\n",
              "/**\n",
              " * @fileoverview Helpers for google.colab Python module.\n",
              " */\n",
              "(function(scope) {\n",
              "function span(text, styleAttributes = {}) {\n",
              "  const element = document.createElement('span');\n",
              "  element.textContent = text;\n",
              "  for (const key of Object.keys(styleAttributes)) {\n",
              "    element.style[key] = styleAttributes[key];\n",
              "  }\n",
              "  return element;\n",
              "}\n",
              "\n",
              "// Max number of bytes which will be uploaded at a time.\n",
              "const MAX_PAYLOAD_SIZE = 100 * 1024;\n",
              "\n",
              "function _uploadFiles(inputId, outputId) {\n",
              "  const steps = uploadFilesStep(inputId, outputId);\n",
              "  const outputElement = document.getElementById(outputId);\n",
              "  // Cache steps on the outputElement to make it available for the next call\n",
              "  // to uploadFilesContinue from Python.\n",
              "  outputElement.steps = steps;\n",
              "\n",
              "  return _uploadFilesContinue(outputId);\n",
              "}\n",
              "\n",
              "// This is roughly an async generator (not supported in the browser yet),\n",
              "// where there are multiple asynchronous steps and the Python side is going\n",
              "// to poll for completion of each step.\n",
              "// This uses a Promise to block the python side on completion of each step,\n",
              "// then passes the result of the previous step as the input to the next step.\n",
              "function _uploadFilesContinue(outputId) {\n",
              "  const outputElement = document.getElementById(outputId);\n",
              "  const steps = outputElement.steps;\n",
              "\n",
              "  const next = steps.next(outputElement.lastPromiseValue);\n",
              "  return Promise.resolve(next.value.promise).then((value) => {\n",
              "    // Cache the last promise value to make it available to the next\n",
              "    // step of the generator.\n",
              "    outputElement.lastPromiseValue = value;\n",
              "    return next.value.response;\n",
              "  });\n",
              "}\n",
              "\n",
              "/**\n",
              " * Generator function which is called between each async step of the upload\n",
              " * process.\n",
              " * @param {string} inputId Element ID of the input file picker element.\n",
              " * @param {string} outputId Element ID of the output display.\n",
              " * @return {!Iterable<!Object>} Iterable of next steps.\n",
              " */\n",
              "function* uploadFilesStep(inputId, outputId) {\n",
              "  const inputElement = document.getElementById(inputId);\n",
              "  inputElement.disabled = false;\n",
              "\n",
              "  const outputElement = document.getElementById(outputId);\n",
              "  outputElement.innerHTML = '';\n",
              "\n",
              "  const pickedPromise = new Promise((resolve) => {\n",
              "    inputElement.addEventListener('change', (e) => {\n",
              "      resolve(e.target.files);\n",
              "    });\n",
              "  });\n",
              "\n",
              "  const cancel = document.createElement('button');\n",
              "  inputElement.parentElement.appendChild(cancel);\n",
              "  cancel.textContent = 'Cancel upload';\n",
              "  const cancelPromise = new Promise((resolve) => {\n",
              "    cancel.onclick = () => {\n",
              "      resolve(null);\n",
              "    };\n",
              "  });\n",
              "\n",
              "  // Wait for the user to pick the files.\n",
              "  const files = yield {\n",
              "    promise: Promise.race([pickedPromise, cancelPromise]),\n",
              "    response: {\n",
              "      action: 'starting',\n",
              "    }\n",
              "  };\n",
              "\n",
              "  cancel.remove();\n",
              "\n",
              "  // Disable the input element since further picks are not allowed.\n",
              "  inputElement.disabled = true;\n",
              "\n",
              "  if (!files) {\n",
              "    return {\n",
              "      response: {\n",
              "        action: 'complete',\n",
              "      }\n",
              "    };\n",
              "  }\n",
              "\n",
              "  for (const file of files) {\n",
              "    const li = document.createElement('li');\n",
              "    li.append(span(file.name, {fontWeight: 'bold'}));\n",
              "    li.append(span(\n",
              "        `(${file.type || 'n/a'}) - ${file.size} bytes, ` +\n",
              "        `last modified: ${\n",
              "            file.lastModifiedDate ? file.lastModifiedDate.toLocaleDateString() :\n",
              "                                    'n/a'} - `));\n",
              "    const percent = span('0% done');\n",
              "    li.appendChild(percent);\n",
              "\n",
              "    outputElement.appendChild(li);\n",
              "\n",
              "    const fileDataPromise = new Promise((resolve) => {\n",
              "      const reader = new FileReader();\n",
              "      reader.onload = (e) => {\n",
              "        resolve(e.target.result);\n",
              "      };\n",
              "      reader.readAsArrayBuffer(file);\n",
              "    });\n",
              "    // Wait for the data to be ready.\n",
              "    let fileData = yield {\n",
              "      promise: fileDataPromise,\n",
              "      response: {\n",
              "        action: 'continue',\n",
              "      }\n",
              "    };\n",
              "\n",
              "    // Use a chunked sending to avoid message size limits. See b/62115660.\n",
              "    let position = 0;\n",
              "    do {\n",
              "      const length = Math.min(fileData.byteLength - position, MAX_PAYLOAD_SIZE);\n",
              "      const chunk = new Uint8Array(fileData, position, length);\n",
              "      position += length;\n",
              "\n",
              "      const base64 = btoa(String.fromCharCode.apply(null, chunk));\n",
              "      yield {\n",
              "        response: {\n",
              "          action: 'append',\n",
              "          file: file.name,\n",
              "          data: base64,\n",
              "        },\n",
              "      };\n",
              "\n",
              "      let percentDone = fileData.byteLength === 0 ?\n",
              "          100 :\n",
              "          Math.round((position / fileData.byteLength) * 100);\n",
              "      percent.textContent = `${percentDone}% done`;\n",
              "\n",
              "    } while (position < fileData.byteLength);\n",
              "  }\n",
              "\n",
              "  // All done.\n",
              "  yield {\n",
              "    response: {\n",
              "      action: 'complete',\n",
              "    }\n",
              "  };\n",
              "}\n",
              "\n",
              "scope.google = scope.google || {};\n",
              "scope.google.colab = scope.google.colab || {};\n",
              "scope.google.colab._files = {\n",
              "  _uploadFiles,\n",
              "  _uploadFilesContinue,\n",
              "};\n",
              "})(self);\n",
              "</script> "
            ]
          },
          "metadata": {}
        },
        {
          "output_type": "stream",
          "name": "stdout",
          "text": [
            "Saving fb_mmm_data.csv to fb_mmm_data.csv\n"
          ]
        }
      ]
    },
    {
      "cell_type": "code",
      "source": [
        "import io\n",
        "\n",
        "data = pd.read_csv(io.BytesIO(uploaded['fb_mmm_data.csv']))"
      ],
      "metadata": {
        "id": "H_rpn9bQqwvM"
      },
      "execution_count": null,
      "outputs": []
    },
    {
      "cell_type": "code",
      "source": [
        "data"
      ],
      "metadata": {
        "colab": {
          "base_uri": "https://localhost:8080/",
          "height": 488
        },
        "id": "04ZLSZsDqwyS",
        "outputId": "258c0f34-4f32-4e0a-bc32-9ed8c9507b94"
      },
      "execution_count": null,
      "outputs": [
        {
          "output_type": "execute_result",
          "data": {
            "text/plain": [
              "           DATE     revenue       tv_S     ooh_S       print_S    facebook_I  \\\n",
              "0    11/23/2015  2754371.67   67075.04       0.0  38185.466670  7.290385e+07   \n",
              "1    11/30/2015  2584276.67   85840.36       0.0      0.000000  1.658110e+07   \n",
              "2     12/7/2015  2547386.67       0.00  396835.2   1361.600000  4.995477e+07   \n",
              "3    12/14/2015  2875220.00  250350.92       0.0  53040.000000  3.164930e+07   \n",
              "4    12/21/2015  2215953.33       0.00  832008.0      0.000000  8.802269e+06   \n",
              "..          ...         ...        ...       ...           ...           ...   \n",
              "203  10/14/2019  2456240.00       0.00   96692.8  61489.466670  0.000000e+00   \n",
              "204  10/21/2019  2182825.00   61967.04       0.0      0.000000  5.688196e+07   \n",
              "205  10/28/2019  2377706.67    8793.00   22550.4   6990.400000  0.000000e+00   \n",
              "206   11/4/2019  2732825.00    8981.20       0.0   9620.533333  0.000000e+00   \n",
              "207  11/11/2019  2767788.33       0.00       0.0      0.000000  1.279811e+08   \n",
              "\n",
              "     search_clicks_P  search_S  competitor_sales_B    facebook_S  ...  jun  \\\n",
              "0            0.00000         0             8125009  22821.398740  ...    0   \n",
              "1        29511.71546     12400             7901549   3425.857351  ...    0   \n",
              "2        36132.35896     11360             8300197  12769.126130  ...    0   \n",
              "3        36804.21096     12760             8122883   8401.472031  ...    0   \n",
              "4        28401.74407     10840             7105985   2068.747816  ...    0   \n",
              "..               ...       ...                 ...           ...  ...  ...   \n",
              "203     152840.32340     44840             7612762      0.000000  ...    0   \n",
              "204     103680.04780     41480             6701667  13362.457550  ...    0   \n",
              "205     138387.70410     45880             7688920      0.000000  ...    0   \n",
              "206     151707.99050     53640             8815710      0.000000  ...    0   \n",
              "207          0.00000         0             9067759  36619.075940  ...    0   \n",
              "\n",
              "     jul  aug  sept  oct  nov  new_years  mothers_day  fathers_day  christmas  \n",
              "0      0    0     0    0    1          0            0            0          0  \n",
              "1      0    0     0    0    1          0            0            0          0  \n",
              "2      0    0     0    0    0          0            0            0          0  \n",
              "3      0    0     0    0    0          0            0            0          0  \n",
              "4      0    0     0    0    0          0            0            0          0  \n",
              "..   ...  ...   ...  ...  ...        ...          ...          ...        ...  \n",
              "203    0    0     0    1    0          0            0            0          0  \n",
              "204    0    0     0    1    0          0            0            0          0  \n",
              "205    0    0     0    1    0          0            0            0          0  \n",
              "206    0    0     0    0    1          0            0            0          0  \n",
              "207    0    0     0    0    1          0            0            0          0  \n",
              "\n",
              "[208 rows x 30 columns]"
            ],
            "text/html": [
              "\n",
              "\n",
              "  <div id=\"df-482cfa9a-06b4-427d-a2e5-cd5e9fb65521\">\n",
              "    <div class=\"colab-df-container\">\n",
              "      <div>\n",
              "<style scoped>\n",
              "    .dataframe tbody tr th:only-of-type {\n",
              "        vertical-align: middle;\n",
              "    }\n",
              "\n",
              "    .dataframe tbody tr th {\n",
              "        vertical-align: top;\n",
              "    }\n",
              "\n",
              "    .dataframe thead th {\n",
              "        text-align: right;\n",
              "    }\n",
              "</style>\n",
              "<table border=\"1\" class=\"dataframe\">\n",
              "  <thead>\n",
              "    <tr style=\"text-align: right;\">\n",
              "      <th></th>\n",
              "      <th>DATE</th>\n",
              "      <th>revenue</th>\n",
              "      <th>tv_S</th>\n",
              "      <th>ooh_S</th>\n",
              "      <th>print_S</th>\n",
              "      <th>facebook_I</th>\n",
              "      <th>search_clicks_P</th>\n",
              "      <th>search_S</th>\n",
              "      <th>competitor_sales_B</th>\n",
              "      <th>facebook_S</th>\n",
              "      <th>...</th>\n",
              "      <th>jun</th>\n",
              "      <th>jul</th>\n",
              "      <th>aug</th>\n",
              "      <th>sept</th>\n",
              "      <th>oct</th>\n",
              "      <th>nov</th>\n",
              "      <th>new_years</th>\n",
              "      <th>mothers_day</th>\n",
              "      <th>fathers_day</th>\n",
              "      <th>christmas</th>\n",
              "    </tr>\n",
              "  </thead>\n",
              "  <tbody>\n",
              "    <tr>\n",
              "      <th>0</th>\n",
              "      <td>11/23/2015</td>\n",
              "      <td>2754371.67</td>\n",
              "      <td>67075.04</td>\n",
              "      <td>0.0</td>\n",
              "      <td>38185.466670</td>\n",
              "      <td>7.290385e+07</td>\n",
              "      <td>0.00000</td>\n",
              "      <td>0</td>\n",
              "      <td>8125009</td>\n",
              "      <td>22821.398740</td>\n",
              "      <td>...</td>\n",
              "      <td>0</td>\n",
              "      <td>0</td>\n",
              "      <td>0</td>\n",
              "      <td>0</td>\n",
              "      <td>0</td>\n",
              "      <td>1</td>\n",
              "      <td>0</td>\n",
              "      <td>0</td>\n",
              "      <td>0</td>\n",
              "      <td>0</td>\n",
              "    </tr>\n",
              "    <tr>\n",
              "      <th>1</th>\n",
              "      <td>11/30/2015</td>\n",
              "      <td>2584276.67</td>\n",
              "      <td>85840.36</td>\n",
              "      <td>0.0</td>\n",
              "      <td>0.000000</td>\n",
              "      <td>1.658110e+07</td>\n",
              "      <td>29511.71546</td>\n",
              "      <td>12400</td>\n",
              "      <td>7901549</td>\n",
              "      <td>3425.857351</td>\n",
              "      <td>...</td>\n",
              "      <td>0</td>\n",
              "      <td>0</td>\n",
              "      <td>0</td>\n",
              "      <td>0</td>\n",
              "      <td>0</td>\n",
              "      <td>1</td>\n",
              "      <td>0</td>\n",
              "      <td>0</td>\n",
              "      <td>0</td>\n",
              "      <td>0</td>\n",
              "    </tr>\n",
              "    <tr>\n",
              "      <th>2</th>\n",
              "      <td>12/7/2015</td>\n",
              "      <td>2547386.67</td>\n",
              "      <td>0.00</td>\n",
              "      <td>396835.2</td>\n",
              "      <td>1361.600000</td>\n",
              "      <td>4.995477e+07</td>\n",
              "      <td>36132.35896</td>\n",
              "      <td>11360</td>\n",
              "      <td>8300197</td>\n",
              "      <td>12769.126130</td>\n",
              "      <td>...</td>\n",
              "      <td>0</td>\n",
              "      <td>0</td>\n",
              "      <td>0</td>\n",
              "      <td>0</td>\n",
              "      <td>0</td>\n",
              "      <td>0</td>\n",
              "      <td>0</td>\n",
              "      <td>0</td>\n",
              "      <td>0</td>\n",
              "      <td>0</td>\n",
              "    </tr>\n",
              "    <tr>\n",
              "      <th>3</th>\n",
              "      <td>12/14/2015</td>\n",
              "      <td>2875220.00</td>\n",
              "      <td>250350.92</td>\n",
              "      <td>0.0</td>\n",
              "      <td>53040.000000</td>\n",
              "      <td>3.164930e+07</td>\n",
              "      <td>36804.21096</td>\n",
              "      <td>12760</td>\n",
              "      <td>8122883</td>\n",
              "      <td>8401.472031</td>\n",
              "      <td>...</td>\n",
              "      <td>0</td>\n",
              "      <td>0</td>\n",
              "      <td>0</td>\n",
              "      <td>0</td>\n",
              "      <td>0</td>\n",
              "      <td>0</td>\n",
              "      <td>0</td>\n",
              "      <td>0</td>\n",
              "      <td>0</td>\n",
              "      <td>0</td>\n",
              "    </tr>\n",
              "    <tr>\n",
              "      <th>4</th>\n",
              "      <td>12/21/2015</td>\n",
              "      <td>2215953.33</td>\n",
              "      <td>0.00</td>\n",
              "      <td>832008.0</td>\n",
              "      <td>0.000000</td>\n",
              "      <td>8.802269e+06</td>\n",
              "      <td>28401.74407</td>\n",
              "      <td>10840</td>\n",
              "      <td>7105985</td>\n",
              "      <td>2068.747816</td>\n",
              "      <td>...</td>\n",
              "      <td>0</td>\n",
              "      <td>0</td>\n",
              "      <td>0</td>\n",
              "      <td>0</td>\n",
              "      <td>0</td>\n",
              "      <td>0</td>\n",
              "      <td>0</td>\n",
              "      <td>0</td>\n",
              "      <td>0</td>\n",
              "      <td>0</td>\n",
              "    </tr>\n",
              "    <tr>\n",
              "      <th>...</th>\n",
              "      <td>...</td>\n",
              "      <td>...</td>\n",
              "      <td>...</td>\n",
              "      <td>...</td>\n",
              "      <td>...</td>\n",
              "      <td>...</td>\n",
              "      <td>...</td>\n",
              "      <td>...</td>\n",
              "      <td>...</td>\n",
              "      <td>...</td>\n",
              "      <td>...</td>\n",
              "      <td>...</td>\n",
              "      <td>...</td>\n",
              "      <td>...</td>\n",
              "      <td>...</td>\n",
              "      <td>...</td>\n",
              "      <td>...</td>\n",
              "      <td>...</td>\n",
              "      <td>...</td>\n",
              "      <td>...</td>\n",
              "      <td>...</td>\n",
              "    </tr>\n",
              "    <tr>\n",
              "      <th>203</th>\n",
              "      <td>10/14/2019</td>\n",
              "      <td>2456240.00</td>\n",
              "      <td>0.00</td>\n",
              "      <td>96692.8</td>\n",
              "      <td>61489.466670</td>\n",
              "      <td>0.000000e+00</td>\n",
              "      <td>152840.32340</td>\n",
              "      <td>44840</td>\n",
              "      <td>7612762</td>\n",
              "      <td>0.000000</td>\n",
              "      <td>...</td>\n",
              "      <td>0</td>\n",
              "      <td>0</td>\n",
              "      <td>0</td>\n",
              "      <td>0</td>\n",
              "      <td>1</td>\n",
              "      <td>0</td>\n",
              "      <td>0</td>\n",
              "      <td>0</td>\n",
              "      <td>0</td>\n",
              "      <td>0</td>\n",
              "    </tr>\n",
              "    <tr>\n",
              "      <th>204</th>\n",
              "      <td>10/21/2019</td>\n",
              "      <td>2182825.00</td>\n",
              "      <td>61967.04</td>\n",
              "      <td>0.0</td>\n",
              "      <td>0.000000</td>\n",
              "      <td>5.688196e+07</td>\n",
              "      <td>103680.04780</td>\n",
              "      <td>41480</td>\n",
              "      <td>6701667</td>\n",
              "      <td>13362.457550</td>\n",
              "      <td>...</td>\n",
              "      <td>0</td>\n",
              "      <td>0</td>\n",
              "      <td>0</td>\n",
              "      <td>0</td>\n",
              "      <td>1</td>\n",
              "      <td>0</td>\n",
              "      <td>0</td>\n",
              "      <td>0</td>\n",
              "      <td>0</td>\n",
              "      <td>0</td>\n",
              "    </tr>\n",
              "    <tr>\n",
              "      <th>205</th>\n",
              "      <td>10/28/2019</td>\n",
              "      <td>2377706.67</td>\n",
              "      <td>8793.00</td>\n",
              "      <td>22550.4</td>\n",
              "      <td>6990.400000</td>\n",
              "      <td>0.000000e+00</td>\n",
              "      <td>138387.70410</td>\n",
              "      <td>45880</td>\n",
              "      <td>7688920</td>\n",
              "      <td>0.000000</td>\n",
              "      <td>...</td>\n",
              "      <td>0</td>\n",
              "      <td>0</td>\n",
              "      <td>0</td>\n",
              "      <td>0</td>\n",
              "      <td>1</td>\n",
              "      <td>0</td>\n",
              "      <td>0</td>\n",
              "      <td>0</td>\n",
              "      <td>0</td>\n",
              "      <td>0</td>\n",
              "    </tr>\n",
              "    <tr>\n",
              "      <th>206</th>\n",
              "      <td>11/4/2019</td>\n",
              "      <td>2732825.00</td>\n",
              "      <td>8981.20</td>\n",
              "      <td>0.0</td>\n",
              "      <td>9620.533333</td>\n",
              "      <td>0.000000e+00</td>\n",
              "      <td>151707.99050</td>\n",
              "      <td>53640</td>\n",
              "      <td>8815710</td>\n",
              "      <td>0.000000</td>\n",
              "      <td>...</td>\n",
              "      <td>0</td>\n",
              "      <td>0</td>\n",
              "      <td>0</td>\n",
              "      <td>0</td>\n",
              "      <td>0</td>\n",
              "      <td>1</td>\n",
              "      <td>0</td>\n",
              "      <td>0</td>\n",
              "      <td>0</td>\n",
              "      <td>0</td>\n",
              "    </tr>\n",
              "    <tr>\n",
              "      <th>207</th>\n",
              "      <td>11/11/2019</td>\n",
              "      <td>2767788.33</td>\n",
              "      <td>0.00</td>\n",
              "      <td>0.0</td>\n",
              "      <td>0.000000</td>\n",
              "      <td>1.279811e+08</td>\n",
              "      <td>0.00000</td>\n",
              "      <td>0</td>\n",
              "      <td>9067759</td>\n",
              "      <td>36619.075940</td>\n",
              "      <td>...</td>\n",
              "      <td>0</td>\n",
              "      <td>0</td>\n",
              "      <td>0</td>\n",
              "      <td>0</td>\n",
              "      <td>0</td>\n",
              "      <td>1</td>\n",
              "      <td>0</td>\n",
              "      <td>0</td>\n",
              "      <td>0</td>\n",
              "      <td>0</td>\n",
              "    </tr>\n",
              "  </tbody>\n",
              "</table>\n",
              "<p>208 rows × 30 columns</p>\n",
              "</div>\n",
              "      <button class=\"colab-df-convert\" onclick=\"convertToInteractive('df-482cfa9a-06b4-427d-a2e5-cd5e9fb65521')\"\n",
              "              title=\"Convert this dataframe to an interactive table.\"\n",
              "              style=\"display:none;\">\n",
              "\n",
              "  <svg xmlns=\"http://www.w3.org/2000/svg\" height=\"24px\"viewBox=\"0 0 24 24\"\n",
              "       width=\"24px\">\n",
              "    <path d=\"M0 0h24v24H0V0z\" fill=\"none\"/>\n",
              "    <path d=\"M18.56 5.44l.94 2.06.94-2.06 2.06-.94-2.06-.94-.94-2.06-.94 2.06-2.06.94zm-11 1L8.5 8.5l.94-2.06 2.06-.94-2.06-.94L8.5 2.5l-.94 2.06-2.06.94zm10 10l.94 2.06.94-2.06 2.06-.94-2.06-.94-.94-2.06-.94 2.06-2.06.94z\"/><path d=\"M17.41 7.96l-1.37-1.37c-.4-.4-.92-.59-1.43-.59-.52 0-1.04.2-1.43.59L10.3 9.45l-7.72 7.72c-.78.78-.78 2.05 0 2.83L4 21.41c.39.39.9.59 1.41.59.51 0 1.02-.2 1.41-.59l7.78-7.78 2.81-2.81c.8-.78.8-2.07 0-2.86zM5.41 20L4 18.59l7.72-7.72 1.47 1.35L5.41 20z\"/>\n",
              "  </svg>\n",
              "      </button>\n",
              "\n",
              "\n",
              "\n",
              "    <div id=\"df-d1a4f454-0bbb-4e05-86d7-8bea1fa5f396\">\n",
              "      <button class=\"colab-df-quickchart\" onclick=\"quickchart('df-d1a4f454-0bbb-4e05-86d7-8bea1fa5f396')\"\n",
              "              title=\"Suggest charts.\"\n",
              "              style=\"display:none;\">\n",
              "\n",
              "<svg xmlns=\"http://www.w3.org/2000/svg\" height=\"24px\"viewBox=\"0 0 24 24\"\n",
              "     width=\"24px\">\n",
              "    <g>\n",
              "        <path d=\"M19 3H5c-1.1 0-2 .9-2 2v14c0 1.1.9 2 2 2h14c1.1 0 2-.9 2-2V5c0-1.1-.9-2-2-2zM9 17H7v-7h2v7zm4 0h-2V7h2v10zm4 0h-2v-4h2v4z\"/>\n",
              "    </g>\n",
              "</svg>\n",
              "      </button>\n",
              "    </div>\n",
              "\n",
              "<style>\n",
              "  .colab-df-quickchart {\n",
              "    background-color: #E8F0FE;\n",
              "    border: none;\n",
              "    border-radius: 50%;\n",
              "    cursor: pointer;\n",
              "    display: none;\n",
              "    fill: #1967D2;\n",
              "    height: 32px;\n",
              "    padding: 0 0 0 0;\n",
              "    width: 32px;\n",
              "  }\n",
              "\n",
              "  .colab-df-quickchart:hover {\n",
              "    background-color: #E2EBFA;\n",
              "    box-shadow: 0px 1px 2px rgba(60, 64, 67, 0.3), 0px 1px 3px 1px rgba(60, 64, 67, 0.15);\n",
              "    fill: #174EA6;\n",
              "  }\n",
              "\n",
              "  [theme=dark] .colab-df-quickchart {\n",
              "    background-color: #3B4455;\n",
              "    fill: #D2E3FC;\n",
              "  }\n",
              "\n",
              "  [theme=dark] .colab-df-quickchart:hover {\n",
              "    background-color: #434B5C;\n",
              "    box-shadow: 0px 1px 3px 1px rgba(0, 0, 0, 0.15);\n",
              "    filter: drop-shadow(0px 1px 2px rgba(0, 0, 0, 0.3));\n",
              "    fill: #FFFFFF;\n",
              "  }\n",
              "</style>\n",
              "\n",
              "    <script>\n",
              "      async function quickchart(key) {\n",
              "        const containerElement = document.querySelector('#' + key);\n",
              "        const charts = await google.colab.kernel.invokeFunction(\n",
              "            'suggestCharts', [key], {});\n",
              "      }\n",
              "    </script>\n",
              "\n",
              "      <script>\n",
              "\n",
              "function displayQuickchartButton(domScope) {\n",
              "  let quickchartButtonEl =\n",
              "    domScope.querySelector('#df-d1a4f454-0bbb-4e05-86d7-8bea1fa5f396 button.colab-df-quickchart');\n",
              "  quickchartButtonEl.style.display =\n",
              "    google.colab.kernel.accessAllowed ? 'block' : 'none';\n",
              "}\n",
              "\n",
              "        displayQuickchartButton(document);\n",
              "      </script>\n",
              "      <style>\n",
              "    .colab-df-container {\n",
              "      display:flex;\n",
              "      flex-wrap:wrap;\n",
              "      gap: 12px;\n",
              "    }\n",
              "\n",
              "    .colab-df-convert {\n",
              "      background-color: #E8F0FE;\n",
              "      border: none;\n",
              "      border-radius: 50%;\n",
              "      cursor: pointer;\n",
              "      display: none;\n",
              "      fill: #1967D2;\n",
              "      height: 32px;\n",
              "      padding: 0 0 0 0;\n",
              "      width: 32px;\n",
              "    }\n",
              "\n",
              "    .colab-df-convert:hover {\n",
              "      background-color: #E2EBFA;\n",
              "      box-shadow: 0px 1px 2px rgba(60, 64, 67, 0.3), 0px 1px 3px 1px rgba(60, 64, 67, 0.15);\n",
              "      fill: #174EA6;\n",
              "    }\n",
              "\n",
              "    [theme=dark] .colab-df-convert {\n",
              "      background-color: #3B4455;\n",
              "      fill: #D2E3FC;\n",
              "    }\n",
              "\n",
              "    [theme=dark] .colab-df-convert:hover {\n",
              "      background-color: #434B5C;\n",
              "      box-shadow: 0px 1px 3px 1px rgba(0, 0, 0, 0.15);\n",
              "      filter: drop-shadow(0px 1px 2px rgba(0, 0, 0, 0.3));\n",
              "      fill: #FFFFFF;\n",
              "    }\n",
              "  </style>\n",
              "\n",
              "      <script>\n",
              "        const buttonEl =\n",
              "          document.querySelector('#df-482cfa9a-06b4-427d-a2e5-cd5e9fb65521 button.colab-df-convert');\n",
              "        buttonEl.style.display =\n",
              "          google.colab.kernel.accessAllowed ? 'block' : 'none';\n",
              "\n",
              "        async function convertToInteractive(key) {\n",
              "          const element = document.querySelector('#df-482cfa9a-06b4-427d-a2e5-cd5e9fb65521');\n",
              "          const dataTable =\n",
              "            await google.colab.kernel.invokeFunction('convertToInteractive',\n",
              "                                                     [key], {});\n",
              "          if (!dataTable) return;\n",
              "\n",
              "          const docLinkHtml = 'Like what you see? Visit the ' +\n",
              "            '<a target=\"_blank\" href=https://colab.research.google.com/notebooks/data_table.ipynb>data table notebook</a>'\n",
              "            + ' to learn more about interactive tables.';\n",
              "          element.innerHTML = '';\n",
              "          dataTable['output_type'] = 'display_data';\n",
              "          await google.colab.output.renderOutput(dataTable, element);\n",
              "          const docLink = document.createElement('div');\n",
              "          docLink.innerHTML = docLinkHtml;\n",
              "          element.appendChild(docLink);\n",
              "        }\n",
              "      </script>\n",
              "    </div>\n",
              "  </div>\n"
            ]
          },
          "metadata": {},
          "execution_count": 266
        }
      ]
    },
    {
      "cell_type": "code",
      "source": [
        "data_train = data[0:156]\n",
        "data_test = data[156:]\n",
        "\n",
        "\n",
        "data_train_X = data_train.drop(columns = [\"DATE\", \"revenue\"])\n",
        "data_test_X = data_test.drop(columns = [\"DATE\", \"revenue\"])\n",
        "\n",
        "data_train_y = data_train[\"revenue\"]\n",
        "data_test_y = data_test[\"revenue\"]\n",
        "\n"
      ],
      "metadata": {
        "id": "MrVg_uMcthtG"
      },
      "execution_count": null,
      "outputs": []
    },
    {
      "cell_type": "code",
      "source": [
        "def mape(actual, predicted):\n",
        "    return np.mean(np.abs((actual - predicted) / actual)) * 100"
      ],
      "metadata": {
        "id": "nbAOVLdQyR_O"
      },
      "execution_count": null,
      "outputs": []
    },
    {
      "cell_type": "markdown",
      "source": [
        "# NN Model"
      ],
      "metadata": {
        "id": "vWmtvAjVaTBN"
      }
    },
    {
      "cell_type": "code",
      "source": [
        "np.random.seed(7)\n",
        "tf.random.set_seed(7)\n",
        "\n",
        "# Define the FNN model with L2 regularization\n",
        "model = Sequential()\n",
        "model.add(Dense(units=64, activation='relu', kernel_regularizer=regularizers.l2(0.01), input_shape=(28,)))\n",
        "model.add(Dense(units=1))\n",
        "\n",
        "# Compile the model\n",
        "model.compile(loss='mean_squared_error', optimizer='adam')\n",
        "\n",
        "train_X, val_X, train_y, val_y = train_test_split(data_train_X, data_train_y, test_size=0.1, random_state=7)\n",
        "\n",
        "\n",
        "# Train the model\n",
        "train_result = model.fit(train_X, train_y, epochs=80, batch_size=32, validation_data=(val_X, val_y))\n",
        "\n",
        "train_predictions = model.predict(train_X)\n",
        "train_predictions1 = model.predict(data_train_X)\n",
        "val_predictions = model.predict(val_X)\n",
        "test_predictions = model.predict(data_test_X)\n",
        "train_mape = mape(train_y , train_predictions.flatten())\n",
        "val_mape = mape(val_y , val_predictions.flatten())\n",
        "test_mape = mape(data_test_y , test_predictions.flatten() )\n",
        "train_mse = mean_squared_error(train_y, train_predictions)\n",
        "val_mse = mean_squared_error(val_y, val_predictions)\n",
        "test_mse = mean_squared_error(data_test_y, test_predictions)\n",
        "\n",
        "\n",
        "r2 = r2_score(train_y, train_predictions)\n",
        "print(\"R^2:\", r2)\n",
        "print(\"Training MAPE:\", train_mape)\n",
        "print(\"Val MAPE:\", val_mape)\n",
        "print(\"Test MAPE:\", test_mape)\n",
        "print(\"\")\n",
        "print(\"Training MSE:\", train_mse)\n",
        "print(\"Val MSE:\", val_mse)\n",
        "print(\"Test MSE:\", test_mse)\n",
        "\n",
        "plt.plot(train_result.history['loss'])\n",
        "plt.plot(train_result.history['val_loss'])\n",
        "plt.title('model loss')\n",
        "plt.ylabel('loss')\n",
        "plt.xlabel('epoch')\n",
        "plt.legend(['train', 'test'], loc='upper left')\n",
        "plt.show()"
      ],
      "metadata": {
        "colab": {
          "base_uri": "https://localhost:8080/",
          "height": 1000
        },
        "id": "VGKO9Lg4rqof",
        "outputId": "5002414f-3745-4041-de82-e82fae69af0a"
      },
      "execution_count": null,
      "outputs": [
        {
          "output_type": "stream",
          "name": "stdout",
          "text": [
            "Epoch 1/80\n",
            "5/5 [==============================] - 1s 41ms/step - loss: 2925565575168.0000 - val_loss: 2258603868160.0000\n",
            "Epoch 2/80\n",
            "5/5 [==============================] - 0s 8ms/step - loss: 2470452396032.0000 - val_loss: 1901015334912.0000\n",
            "Epoch 3/80\n",
            "5/5 [==============================] - 0s 8ms/step - loss: 1646103363584.0000 - val_loss: 1754479198208.0000\n",
            "Epoch 4/80\n",
            "5/5 [==============================] - 0s 11ms/step - loss: 1296730816512.0000 - val_loss: 1428126564352.0000\n",
            "Epoch 5/80\n",
            "5/5 [==============================] - 0s 9ms/step - loss: 956739354624.0000 - val_loss: 1060596744192.0000\n",
            "Epoch 6/80\n",
            "5/5 [==============================] - 0s 10ms/step - loss: 794838237184.0000 - val_loss: 857205243904.0000\n",
            "Epoch 7/80\n",
            "5/5 [==============================] - 0s 14ms/step - loss: 549341364224.0000 - val_loss: 734421450752.0000\n",
            "Epoch 8/80\n",
            "5/5 [==============================] - 0s 15ms/step - loss: 482338111488.0000 - val_loss: 579096543232.0000\n",
            "Epoch 9/80\n",
            "5/5 [==============================] - 0s 14ms/step - loss: 324128571392.0000 - val_loss: 442813120512.0000\n",
            "Epoch 10/80\n",
            "5/5 [==============================] - 0s 14ms/step - loss: 236095504384.0000 - val_loss: 359567523840.0000\n",
            "Epoch 11/80\n",
            "5/5 [==============================] - 0s 12ms/step - loss: 175648866304.0000 - val_loss: 298913824768.0000\n",
            "Epoch 12/80\n",
            "5/5 [==============================] - 0s 16ms/step - loss: 146781913088.0000 - val_loss: 255278776320.0000\n",
            "Epoch 13/80\n",
            "5/5 [==============================] - 0s 15ms/step - loss: 115374333952.0000 - val_loss: 229550948352.0000\n",
            "Epoch 14/80\n",
            "5/5 [==============================] - 0s 16ms/step - loss: 102775283712.0000 - val_loss: 206843232256.0000\n",
            "Epoch 15/80\n",
            "5/5 [==============================] - 0s 18ms/step - loss: 95894601728.0000 - val_loss: 195520315392.0000\n",
            "Epoch 16/80\n",
            "5/5 [==============================] - 0s 15ms/step - loss: 91426054144.0000 - val_loss: 192183271424.0000\n",
            "Epoch 17/80\n",
            "5/5 [==============================] - 0s 12ms/step - loss: 86012977152.0000 - val_loss: 180956004352.0000\n",
            "Epoch 18/80\n",
            "5/5 [==============================] - 0s 11ms/step - loss: 91934072832.0000 - val_loss: 178201690112.0000\n",
            "Epoch 19/80\n",
            "5/5 [==============================] - 0s 12ms/step - loss: 90954424320.0000 - val_loss: 185548554240.0000\n",
            "Epoch 20/80\n",
            "5/5 [==============================] - 0s 18ms/step - loss: 86163849216.0000 - val_loss: 175330607104.0000\n",
            "Epoch 21/80\n",
            "5/5 [==============================] - 0s 13ms/step - loss: 85492391936.0000 - val_loss: 178509447168.0000\n",
            "Epoch 22/80\n",
            "5/5 [==============================] - 0s 13ms/step - loss: 83487629312.0000 - val_loss: 179097321472.0000\n",
            "Epoch 23/80\n",
            "5/5 [==============================] - 0s 13ms/step - loss: 82687016960.0000 - val_loss: 176252157952.0000\n",
            "Epoch 24/80\n",
            "5/5 [==============================] - 0s 15ms/step - loss: 82407882752.0000 - val_loss: 175373516800.0000\n",
            "Epoch 25/80\n",
            "5/5 [==============================] - 0s 18ms/step - loss: 81979695104.0000 - val_loss: 176060416000.0000\n",
            "Epoch 26/80\n",
            "5/5 [==============================] - 0s 12ms/step - loss: 81624301568.0000 - val_loss: 174702968832.0000\n",
            "Epoch 27/80\n",
            "5/5 [==============================] - 0s 15ms/step - loss: 80659554304.0000 - val_loss: 176313630720.0000\n",
            "Epoch 28/80\n",
            "5/5 [==============================] - 0s 11ms/step - loss: 81399988224.0000 - val_loss: 175909994496.0000\n",
            "Epoch 29/80\n",
            "5/5 [==============================] - 0s 15ms/step - loss: 81181671424.0000 - val_loss: 173256720384.0000\n",
            "Epoch 30/80\n",
            "5/5 [==============================] - 0s 19ms/step - loss: 78986649600.0000 - val_loss: 179111264256.0000\n",
            "Epoch 31/80\n",
            "5/5 [==============================] - 0s 14ms/step - loss: 80821207040.0000 - val_loss: 173511868416.0000\n",
            "Epoch 32/80\n",
            "5/5 [==============================] - 0s 17ms/step - loss: 81107902464.0000 - val_loss: 172317130752.0000\n",
            "Epoch 33/80\n",
            "5/5 [==============================] - 0s 17ms/step - loss: 79430254592.0000 - val_loss: 175985115136.0000\n",
            "Epoch 34/80\n",
            "5/5 [==============================] - 0s 17ms/step - loss: 79430934528.0000 - val_loss: 173744979968.0000\n",
            "Epoch 35/80\n",
            "5/5 [==============================] - 0s 20ms/step - loss: 79267659776.0000 - val_loss: 173808648192.0000\n",
            "Epoch 36/80\n",
            "5/5 [==============================] - 0s 13ms/step - loss: 80987709440.0000 - val_loss: 171832524800.0000\n",
            "Epoch 37/80\n",
            "5/5 [==============================] - 0s 21ms/step - loss: 80454475776.0000 - val_loss: 175042412544.0000\n",
            "Epoch 38/80\n",
            "5/5 [==============================] - 0s 20ms/step - loss: 79472246784.0000 - val_loss: 171653185536.0000\n",
            "Epoch 39/80\n",
            "5/5 [==============================] - 0s 13ms/step - loss: 78289854464.0000 - val_loss: 174246543360.0000\n",
            "Epoch 40/80\n",
            "5/5 [==============================] - 0s 18ms/step - loss: 82391277568.0000 - val_loss: 174152237056.0000\n",
            "Epoch 41/80\n",
            "5/5 [==============================] - 0s 12ms/step - loss: 77527392256.0000 - val_loss: 169129590784.0000\n",
            "Epoch 42/80\n",
            "5/5 [==============================] - 0s 13ms/step - loss: 78904131584.0000 - val_loss: 176951984128.0000\n",
            "Epoch 43/80\n",
            "5/5 [==============================] - 0s 18ms/step - loss: 81104429056.0000 - val_loss: 170979491840.0000\n",
            "Epoch 44/80\n",
            "5/5 [==============================] - 0s 22ms/step - loss: 94615633920.0000 - val_loss: 171384832000.0000\n",
            "Epoch 45/80\n",
            "5/5 [==============================] - 0s 13ms/step - loss: 89507987456.0000 - val_loss: 195378528256.0000\n",
            "Epoch 46/80\n",
            "5/5 [==============================] - 0s 14ms/step - loss: 92875218944.0000 - val_loss: 168468578304.0000\n",
            "Epoch 47/80\n",
            "5/5 [==============================] - 0s 15ms/step - loss: 88088952832.0000 - val_loss: 177759338496.0000\n",
            "Epoch 48/80\n",
            "5/5 [==============================] - 0s 16ms/step - loss: 86094946304.0000 - val_loss: 173840728064.0000\n",
            "Epoch 49/80\n",
            "5/5 [==============================] - 0s 12ms/step - loss: 76274335744.0000 - val_loss: 170367664128.0000\n",
            "Epoch 50/80\n",
            "5/5 [==============================] - 0s 8ms/step - loss: 77028843520.0000 - val_loss: 174270627840.0000\n",
            "Epoch 51/80\n",
            "5/5 [==============================] - 0s 10ms/step - loss: 77196468224.0000 - val_loss: 172776652800.0000\n",
            "Epoch 52/80\n",
            "5/5 [==============================] - 0s 8ms/step - loss: 82741501952.0000 - val_loss: 170677567488.0000\n",
            "Epoch 53/80\n",
            "5/5 [==============================] - 0s 9ms/step - loss: 84216963072.0000 - val_loss: 180194705408.0000\n",
            "Epoch 54/80\n",
            "5/5 [==============================] - 0s 8ms/step - loss: 78915477504.0000 - val_loss: 169331572736.0000\n",
            "Epoch 55/80\n",
            "5/5 [==============================] - 0s 9ms/step - loss: 78549000192.0000 - val_loss: 175239806976.0000\n",
            "Epoch 56/80\n",
            "5/5 [==============================] - 0s 9ms/step - loss: 77109559296.0000 - val_loss: 172422610944.0000\n",
            "Epoch 57/80\n",
            "5/5 [==============================] - 0s 13ms/step - loss: 75848245248.0000 - val_loss: 170156834816.0000\n",
            "Epoch 58/80\n",
            "5/5 [==============================] - 0s 9ms/step - loss: 78087315456.0000 - val_loss: 174580432896.0000\n",
            "Epoch 59/80\n",
            "5/5 [==============================] - 0s 8ms/step - loss: 75468382208.0000 - val_loss: 170694344704.0000\n",
            "Epoch 60/80\n",
            "5/5 [==============================] - 0s 9ms/step - loss: 75308711936.0000 - val_loss: 173551943680.0000\n",
            "Epoch 61/80\n",
            "5/5 [==============================] - 0s 8ms/step - loss: 75930312704.0000 - val_loss: 171624644608.0000\n",
            "Epoch 62/80\n",
            "5/5 [==============================] - 0s 11ms/step - loss: 75403116544.0000 - val_loss: 169466576896.0000\n",
            "Epoch 63/80\n",
            "5/5 [==============================] - 0s 10ms/step - loss: 75999985664.0000 - val_loss: 177558274048.0000\n",
            "Epoch 64/80\n",
            "5/5 [==============================] - 0s 9ms/step - loss: 77781573632.0000 - val_loss: 172860260352.0000\n",
            "Epoch 65/80\n",
            "5/5 [==============================] - 0s 9ms/step - loss: 74138001408.0000 - val_loss: 174745944064.0000\n",
            "Epoch 66/80\n",
            "5/5 [==============================] - 0s 9ms/step - loss: 76251987968.0000 - val_loss: 170858856448.0000\n",
            "Epoch 67/80\n",
            "5/5 [==============================] - 0s 9ms/step - loss: 80090759168.0000 - val_loss: 175169748992.0000\n",
            "Epoch 68/80\n",
            "5/5 [==============================] - 0s 10ms/step - loss: 85602508800.0000 - val_loss: 170741334016.0000\n",
            "Epoch 69/80\n",
            "5/5 [==============================] - 0s 15ms/step - loss: 81928151040.0000 - val_loss: 171457183744.0000\n",
            "Epoch 70/80\n",
            "5/5 [==============================] - 0s 8ms/step - loss: 74910269440.0000 - val_loss: 178044207104.0000\n",
            "Epoch 71/80\n",
            "5/5 [==============================] - 0s 9ms/step - loss: 74966851584.0000 - val_loss: 170994008064.0000\n",
            "Epoch 72/80\n",
            "5/5 [==============================] - 0s 11ms/step - loss: 76357304320.0000 - val_loss: 170833231872.0000\n",
            "Epoch 73/80\n",
            "5/5 [==============================] - 0s 10ms/step - loss: 75429838848.0000 - val_loss: 173498056704.0000\n",
            "Epoch 74/80\n",
            "5/5 [==============================] - 0s 10ms/step - loss: 76743294976.0000 - val_loss: 175234875392.0000\n",
            "Epoch 75/80\n",
            "5/5 [==============================] - 0s 10ms/step - loss: 73974284288.0000 - val_loss: 171674714112.0000\n",
            "Epoch 76/80\n",
            "5/5 [==============================] - 0s 10ms/step - loss: 79751020544.0000 - val_loss: 170299850752.0000\n",
            "Epoch 77/80\n",
            "5/5 [==============================] - 0s 11ms/step - loss: 84200407040.0000 - val_loss: 173745291264.0000\n",
            "Epoch 78/80\n",
            "5/5 [==============================] - 0s 8ms/step - loss: 75132805120.0000 - val_loss: 174543208448.0000\n",
            "Epoch 79/80\n",
            "5/5 [==============================] - 0s 9ms/step - loss: 75249614848.0000 - val_loss: 171732434944.0000\n",
            "Epoch 80/80\n",
            "5/5 [==============================] - 0s 9ms/step - loss: 73253650432.0000 - val_loss: 174909816832.0000\n",
            "5/5 [==============================] - 0s 2ms/step\n",
            "5/5 [==============================] - 0s 3ms/step\n",
            "1/1 [==============================] - 0s 25ms/step\n",
            "2/2 [==============================] - 0s 3ms/step\n",
            "R^2: 0.8634848431011399\n",
            "Training MAPE: 7.447693449324009\n",
            "Val MAPE: 8.224828560685731\n",
            "Test MAPE: 7.0321628318001315\n",
            "\n",
            "Training MSE: 73375324792.99861\n",
            "Val MSE: 174909820076.60358\n",
            "Test MSE: 45007231973.02233\n"
          ]
        },
        {
          "output_type": "display_data",
          "data": {
            "text/plain": [
              "<Figure size 640x480 with 1 Axes>"
            ],
            "image/png": "[encoded data removed]"
          },
          "metadata": {}
        }
      ]
    },
    {
      "cell_type": "code",
      "source": [
        "all_act = np.append(data_train_y.to_numpy(),data_test_y.to_numpy())\n",
        "all_pred = np.append(list(train_predictions1.flatten()),list(test_predictions.flatten()))\n",
        "\n",
        "plt.plot(all_act)\n",
        "plt.plot(all_pred)\n",
        "plt.axvline(x = 156, color = 'r')\n",
        "plt.title('Actual vs Predicted Revenue (NN)')\n",
        "plt.ylabel('Revenue')\n",
        "plt.xlabel('Date')\n",
        "plt.legend(['actual', 'prediction'], loc='upper left')\n",
        "plt.show()"
      ],
      "metadata": {
        "colab": {
          "base_uri": "https://localhost:8080/",
          "height": 472
        },
        "id": "Jr6s-idM-UCn",
        "outputId": "34de8015-f5d7-44dc-84c8-a4ea9367e116"
      },
      "execution_count": null,
      "outputs": [
        {
          "output_type": "display_data",
          "data": {
            "text/plain": [
              "<Figure size 640x480 with 1 Axes>"
            ],
            "image/png": "[encoded data removed]"
          },
          "metadata": {}
        }
      ]
    },
    {
      "cell_type": "code",
      "source": [],
      "metadata": {
        "colab": {
          "base_uri": "https://localhost:8080/"
        },
        "id": "veFa_RU4BH_F",
        "outputId": "c46fea51-3a40-4e02-dcb5-3d2da67280b6"
      },
      "execution_count": null,
      "outputs": [
        {
          "output_type": "execute_result",
          "data": {
            "text/plain": [
              "numpy.ndarray"
            ]
          },
          "metadata": {},
          "execution_count": 334
        }
      ]
    },
    {
      "cell_type": "markdown",
      "source": [
        "## Shapley Values / Contributions / ROI"
      ],
      "metadata": {
        "id": "XCLYAo9ODgDk"
      }
    },
    {
      "cell_type": "code",
      "source": [
        "# Create an explainer object with the trained model and training data\n",
        "explainer = shap.Explainer(model, data_train_X.values)\n",
        "\n",
        "# Calculate Shapley values for a set of test data\n",
        "shap_values = explainer(data_train_X.values)\n"
      ],
      "metadata": {
        "id": "olGlaOxQyn_k"
      },
      "execution_count": null,
      "outputs": []
    },
    {
      "cell_type": "code",
      "source": [
        "# Plot the Shapley values\n",
        "shap.summary_plot(shap_values, data_train_X, plot_type = \"bar\", feature_names = data_train_X.columns,  max_display=10)"
      ],
      "metadata": {
        "colab": {
          "base_uri": "https://localhost:8080/",
          "height": 557
        },
        "id": "fL1twN5W3rWj",
        "outputId": "e7c516e1-4107-44f2-9ded-799139704a92"
      },
      "execution_count": null,
      "outputs": [
        {
          "output_type": "display_data",
          "data": {
            "text/plain": [
              "<Figure size 800x550 with 1 Axes>"
            ],
            "image/png": "[encoded data removed]"
          },
          "metadata": {}
        }
      ]
    },
    {
      "cell_type": "code",
      "source": [
        "tv_shap = shap_values[0].values[0]\n",
        "ooh_shap = shap_values[0].values[1]\n",
        "print_shap = shap_values[0].values[2]\n",
        "fb_shap = shap_values[0].values[3]+shap_values[0].values[7]\n",
        "search_shap = shap_values[0].values[4]+shap_values[0].values[5]\n",
        "total_shap = sum(shap_values[0].values)\n",
        "media_shap = tv_shap + ooh_shap + print_shap + fb_shap + search_shap\n",
        "\n",
        "search_click_shap = shap_values[0].values[5]\n",
        "\n",
        "\n",
        "print(\"SHAP TV:\",tv_shap)\n",
        "print(\"SHAP OOH:\",ooh_shap)\n",
        "print(\"SHAP Print:\",print_shap)\n",
        "print(\"SHAP Facebook:\",fb_shap)\n",
        "print(\"SHAP Search:\",search_shap)\n",
        "\n",
        "print(\"\")\n",
        "\n",
        "print(\"TV % Contribution:\",tv_shap/total_shap*100)\n",
        "print(\"OOH % Contribution:\",ooh_shap/total_shap*100)\n",
        "print(\"Print % Contribution:\", print_shap/total_shap*100)\n",
        "print(\"Facebook % Contribution:\",fb_shap/total_shap*100)\n",
        "print(\"Search % Contribution:\",search_shap/total_shap*100)\n",
        "print(\"\")\n",
        "\n",
        "print(\"Total Media % Contribution:\", media_shap/total_shap*100)"
      ],
      "metadata": {
        "colab": {
          "base_uri": "https://localhost:8080/"
        },
        "id": "RBPhO1KSyoT4",
        "outputId": "1a1d2fd1-f184-4992-c765-c82f3d645da9"
      },
      "execution_count": null,
      "outputs": [
        {
          "output_type": "stream",
          "name": "stdout",
          "text": [
            "SHAP TV: 6749.33999999998\n",
            "SHAP OOH: -12498.582430555589\n",
            "SHAP Print: 14844.044583333332\n",
            "SHAP Facebook: 79714.58572916675\n",
            "SHAP Search: -14921.215486111054\n",
            "\n",
            "TV % Contribution: 0.8020947421500422\n",
            "OOH % Contribution: -1.4853374184553694\n",
            "Print % Contribution: 1.7640732445739165\n",
            "Facebook % Contribution: 9.473318885407112\n",
            "Search % Contribution: -1.7732442709801992\n",
            "\n",
            "Total Media % Contribution: 8.7809051826955\n"
          ]
        }
      ]
    },
    {
      "cell_type": "code",
      "source": [
        "tv_roi = ((tv_shap/total_shap)*sum(data_train_y))/sum(data_train_X[\"tv_S\"])*100\n",
        "ooh_roi = ((ooh_shap/total_shap)*sum(data_train_y))/sum(data_train_X[\"ooh_S\"])*100\n",
        "print_roi = ((print_shap/total_shap)*sum(data_train_y))/sum(data_train_X[\"print_S\"])*100\n",
        "fb_roi = ((fb_shap/total_shap)*sum(data_train_y))/sum(data_train_X[\"facebook_S\"])*100\n",
        "search_roi = ((search_shap/total_shap)*sum(data_train_y))/sum(data_train_X[\"search_S\"])*100\n",
        "media_roi = ((media_shap/total_shap)*sum(data_train_y))/sum([sum(data_train_X[\"tv_S\"]), sum(data_train_X[\"ooh_S\"]), sum(data_train_X[\"print_S\"]), sum(data_train_X[\"facebook_S\"]),sum(data_train_X[\"search_S\"])] )*100\n",
        "\n",
        "print(\"TV ROI:\",tv_roi)\n",
        "print(\"OOH ROI:\",ooh_roi)\n",
        "print(\"Print ROI:\",print_roi)\n",
        "print(\"FB ROI:\",fb_roi)\n",
        "print(\"Search ROI:\",search_roi)\n",
        "print(\"Media ROI:\",media_roi)\n"
      ],
      "metadata": {
        "colab": {
          "base_uri": "https://localhost:8080/"
        },
        "id": "KYw3LLOgc5X3",
        "outputId": "c6d9622c-6b50-41ba-d881-9caeaaaa10cd"
      },
      "execution_count": null,
      "outputs": [
        {
          "output_type": "stream",
          "name": "stdout",
          "text": [
            "TV ROI: 30.65147506717365\n",
            "OOH ROI: -16.603342496458154\n",
            "Print ROI: 264.7598673933636\n",
            "FB ROI: 2658.998261133657\n",
            "Search ROI: -229.63687849033656\n",
            "Media ROI: 65.73715827226397\n"
          ]
        }
      ]
    },
    {
      "cell_type": "markdown",
      "source": [
        "TV ROI: getting back \\$0.31 for every dollar -> losing \\$0.69\n",
        "\n",
        "OOH ROI: losing \\$0.17 for every dollar -> losing \\$1.17\n",
        "\n",
        "Print ROI: getting back \\$2.64 for every dollar -> gaining \\$2.64\n",
        "\n",
        "FB ROI: getting back \\$26.59 for every dollar -> gaining \\$28.59\n",
        "\n",
        "Search ROI: losing \\$2.30 for every dollar -> losing \\$3.30\n",
        "\n",
        "Media ROI: getting back \\$0.66 for every dollar -> losing \\$0.33"
      ],
      "metadata": {
        "id": "nm6_honZgACC"
      }
    },
    {
      "cell_type": "markdown",
      "source": [
        "## Proportional budget allocation test return"
      ],
      "metadata": {
        "id": "uVfVioFIizXp"
      }
    },
    {
      "cell_type": "code",
      "source": [
        "fb_spend = sum(data_train['facebook_S'])\n",
        "tv_spend = sum(data_train['tv_S'])\n",
        "ooh_spend = sum(data_train['ooh_S'])\n",
        "p_spend = sum(data_train['print_S'])\n",
        "search_spend = sum(data_train['search_S'])\n",
        "tot_spend = fb_spend+tv_spend+ooh_spend+p_spend+search_spend\n",
        "\n",
        "print(\"FB Spend\", fb_spend/tot_spend)\n",
        "print(\"TV Spend\", tv_spend/tot_spend)\n",
        "print(\"OOH Spend\", ooh_spend/tot_spend)\n",
        "print(\"Print Spend\", p_spend/tot_spend)\n",
        "print(\"Search Spend\", search_spend/tot_spend)"
      ],
      "metadata": {
        "colab": {
          "base_uri": "https://localhost:8080/"
        },
        "id": "obe99KwSymKS",
        "outputId": "c0ec5601-81e1-4573-d47e-60a3d17faae2"
      },
      "execution_count": null,
      "outputs": [
        {
          "output_type": "stream",
          "name": "stdout",
          "text": [
            "FB Spend 0.02667200978307469\n",
            "TV Spend 0.19590518419400157\n",
            "OOH Spend 0.6697322831615562\n",
            "Print Spend 0.04988110857473168\n",
            "Search Spend 0.057809414286635885\n"
          ]
        }
      ]
    },
    {
      "cell_type": "markdown",
      "source": [
        "Change allocation by <20%"
      ],
      "metadata": {
        "id": "BxnBbKq7yn1S"
      }
    },
    {
      "cell_type": "code",
      "source": [
        "ooh_change = 0.2-(search_spend/tot_spend)\n",
        "pos_change = (tv_shap/total_shap*100) + (print_shap/total_shap*100) + (fb_shap/total_shap*100)\n",
        "tv_change = .2*(tv_shap/total_shap*100)/pos_change\n",
        "print_change = .2*(print_shap/total_shap*100)/pos_change\n",
        "fb_change = .2*(fb_shap/total_shap*100)/pos_change\n",
        "\n",
        "print(\"FB = \", (fb_spend/tot_spend)+ fb_change)\n",
        "print(\"TV = \", (tv_spend/tot_spend)+ tv_change)\n",
        "print(\"OOH = \", (ooh_spend/tot_spend)-ooh_change )\n",
        "print(\"Print = \", (p_spend/tot_spend)+ print_change)\n",
        "print(\"Search = 0\")\n",
        "\n"
      ],
      "metadata": {
        "colab": {
          "base_uri": "https://localhost:8080/"
        },
        "id": "IcOz1MT_zBFL",
        "outputId": "1e688c79-434d-4886-f9df-ef2b6dbb538a"
      },
      "execution_count": null,
      "outputs": [
        {
          "output_type": "stream",
          "name": "stdout",
          "text": [
            "FB =  0.18404281779210854\n",
            "TV =  0.2092295849873066\n",
            "OOH =  0.5275416974481921\n",
            "Print =  0.0791858997723928\n",
            "Search = 0\n"
          ]
        }
      ]
    },
    {
      "cell_type": "code",
      "source": [
        "ooh_perc = (ooh_spend/tot_spend)-ooh_change\n",
        "search_perc = 0\n",
        "\n",
        "fb_perc = (fb_spend/tot_spend)+ fb_change\n",
        "tv_perc = (tv_spend/tot_spend)+ tv_change\n",
        "print_perc = (p_spend/tot_spend)+ print_change\n",
        "\n",
        "\n",
        "fb_bud = 38224224 * fb_perc\n",
        "tv_bud = 38224224 * tv_perc\n",
        "print_bud = 38224224 * print_perc\n",
        "ooh_bud = 38224224 * print_perc\n",
        "search_bud = 38224224 * search_perc"
      ],
      "metadata": {
        "id": "NRFnYvq_0uQv"
      },
      "execution_count": null,
      "outputs": []
    },
    {
      "cell_type": "code",
      "source": [
        "fb_imp_per_dol = sum(data_train_X['facebook_I']) / sum(data_train_X['facebook_S'])\n",
        "search_click_per_dol = sum(data_train_X['search_clicks_P']) / sum(data_train_X['search_S'])\n",
        "\n",
        "## From R code\n",
        "\n",
        "monthy_spend_per = [0.0912, 0.0417, 0.044, 0.0874, 0.0564, 0.0379, 0.0839, 0.0811, 0.0928, 0.1429, 0.101, 0.1397]"
      ],
      "metadata": {
        "id": "fQiymGOljsvx"
      },
      "execution_count": null,
      "outputs": []
    },
    {
      "cell_type": "code",
      "source": [
        "count_weeks = [0,0,0,0,0,0,0,0,0,0,0,0]\n",
        "\n",
        "for i in range(156,208):\n",
        "  if data_test[\"DATE\"][i][1] == \"/\":\n",
        "    data_test[\"DATE\"][i] = \"0\" + data_test[\"DATE\"][i]\n",
        "\n",
        "for i in range(156,208):\n",
        "  count_weeks[int(data_test[\"DATE\"][i][0:2])-1] += 1"
      ],
      "metadata": {
        "id": "VmwYEsPokSLn"
      },
      "execution_count": null,
      "outputs": []
    },
    {
      "cell_type": "code",
      "source": [
        "weekly_spend_per = []\n",
        "for i in range(12):\n",
        "  weekly_spend_per.append(monthy_spend_per[i]/count_weeks[i])"
      ],
      "metadata": {
        "id": "8qdcG3Ack4kQ"
      },
      "execution_count": null,
      "outputs": []
    },
    {
      "cell_type": "code",
      "source": [
        "mod_test_opt = copy.deepcopy(data_test)\n",
        "\n",
        "for i in range(156,208):\n",
        "  mod_test_opt[\"ooh_S\"][i] = 0\n",
        "\n",
        "  mod_test_opt['search_clicks_P'][i] = 0\n",
        "\n",
        "  mod_test_opt['ooh_S'][i] = ooh_bud * weekly_spend_per[int(mod_test_opt[\"DATE\"][i][0:2])-1]\n",
        "  mod_test_opt['search_S'][i] = search_bud * weekly_spend_per[int(mod_test_opt[\"DATE\"][i][0:2])-1]\n",
        "  mod_test_opt['tv_S'][i] = tv_bud * weekly_spend_per[int(mod_test_opt[\"DATE\"][i][0:2])-1]\n",
        "  mod_test_opt['facebook_S'][i] = fb_bud * weekly_spend_per[int(mod_test_opt[\"DATE\"][i][0:2])-1]\n",
        "  mod_test_opt['print_S'][i] = print_bud * weekly_spend_per[int(mod_test_opt[\"DATE\"][i][0:2])-1]\n",
        "\n",
        "  mod_test_opt['facebook_I'][i] = mod_test_opt['facebook_S'][i] * fb_imp_per_dol\n",
        "  mod_test_opt['search_clicks_P'][i] = mod_test_opt['search_S'][i] * search_click_per_dol\n",
        "\n"
      ],
      "metadata": {
        "colab": {
          "base_uri": "https://localhost:8080/"
        },
        "id": "UJrvbRm-l_pn",
        "outputId": "3746395d-9e78-4234-f5e7-f398fa911252"
      },
      "execution_count": null,
      "outputs": [
        {
          "output_type": "stream",
          "name": "stderr",
          "text": [
            "\n",
            "A value is trying to be set on a copy of a slice from a DataFrame\n",
            "\n",
            "See the caveats in the documentation: https://pandas.pydata.org/pandas-docs/stable/user_guide/indexing.html#returning-a-view-versus-a-copy\n",
            "\n",
            "A value is trying to be set on a copy of a slice from a DataFrame\n",
            "\n",
            "See the caveats in the documentation: https://pandas.pydata.org/pandas-docs/stable/user_guide/indexing.html#returning-a-view-versus-a-copy\n",
            "\n",
            "A value is trying to be set on a copy of a slice from a DataFrame\n",
            "\n",
            "See the caveats in the documentation: https://pandas.pydata.org/pandas-docs/stable/user_guide/indexing.html#returning-a-view-versus-a-copy\n",
            "\n",
            "A value is trying to be set on a copy of a slice from a DataFrame\n",
            "\n",
            "See the caveats in the documentation: https://pandas.pydata.org/pandas-docs/stable/user_guide/indexing.html#returning-a-view-versus-a-copy\n",
            "\n",
            "A value is trying to be set on a copy of a slice from a DataFrame\n",
            "\n",
            "See the caveats in the documentation: https://pandas.pydata.org/pandas-docs/stable/user_guide/indexing.html#returning-a-view-versus-a-copy\n",
            "\n",
            "A value is trying to be set on a copy of a slice from a DataFrame\n",
            "\n",
            "See the caveats in the documentation: https://pandas.pydata.org/pandas-docs/stable/user_guide/indexing.html#returning-a-view-versus-a-copy\n",
            "\n",
            "A value is trying to be set on a copy of a slice from a DataFrame\n",
            "\n",
            "See the caveats in the documentation: https://pandas.pydata.org/pandas-docs/stable/user_guide/indexing.html#returning-a-view-versus-a-copy\n",
            "\n",
            "A value is trying to be set on a copy of a slice from a DataFrame\n",
            "\n",
            "See the caveats in the documentation: https://pandas.pydata.org/pandas-docs/stable/user_guide/indexing.html#returning-a-view-versus-a-copy\n",
            "\n",
            "A value is trying to be set on a copy of a slice from a DataFrame\n",
            "\n",
            "See the caveats in the documentation: https://pandas.pydata.org/pandas-docs/stable/user_guide/indexing.html#returning-a-view-versus-a-copy\n"
          ]
        }
      ]
    },
    {
      "cell_type": "code",
      "source": [
        "mod_test_opt_X = mod_test_opt.drop(columns = [\"DATE\", \"revenue\"])\n",
        "\n",
        "opt_pred = model.predict(mod_test_opt_X)"
      ],
      "metadata": {
        "colab": {
          "base_uri": "https://localhost:8080/"
        },
        "id": "hCSCHl-QoHP2",
        "outputId": "6f291e06-20df-4057-eb01-8c60608b3d4a"
      },
      "execution_count": null,
      "outputs": [
        {
          "output_type": "stream",
          "name": "stdout",
          "text": [
            "2/2 [==============================] - 0s 6ms/step\n"
          ]
        }
      ]
    },
    {
      "cell_type": "code",
      "source": [
        "print(\"Optimized Budget Predicted Revenue:\",sum(opt_pred.flatten()))\n",
        "print(\"Model Predicted Revenue:\",sum(test_predictions.flatten()))\n",
        "print(\"Actual Revenue:\",sum(data_test_y))"
      ],
      "metadata": {
        "colab": {
          "base_uri": "https://localhost:8080/"
        },
        "id": "_wWBw5K0pg7X",
        "outputId": "863bce65-207b-4dd7-f7a1-f22ad4b973d3"
      },
      "execution_count": null,
      "outputs": [
        {
          "output_type": "stream",
          "name": "stdout",
          "text": [
            "Optimized Budget Predicted Revenue: 141546962.0\n",
            "Model Predicted Revenue: 95763006.625\n",
            "Actual Revenue: 92844781.64999999\n"
          ]
        }
      ]
    },
    {
      "cell_type": "code",
      "source": [],
      "metadata": {
        "id": "gnhrpJBGfHc7"
      },
      "execution_count": null,
      "outputs": []
    },
    {
      "cell_type": "code",
      "source": [
        "np.savetxt('all_act.csv', all_act, delimiter=',')\n",
        "np.savetxt('all_pred.csv', all_pred, delimiter=',')\n",
        "np.savetxt('opt_pred.csv', test_predictions.flatten(), delimiter=',')"
      ],
      "metadata": {
        "id": "e1KBLrCoyG3h"
      },
      "execution_count": null,
      "outputs": []
    }
  ]
}